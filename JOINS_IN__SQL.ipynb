{
  "nbformat": 4,
  "nbformat_minor": 0,
  "metadata": {
    "colab": {
      "provenance": [],
      "authorship_tag": "ABX9TyOmeZhnCdRJBB/26cHKRjHO",
      "include_colab_link": true
    },
    "kernelspec": {
      "name": "python3",
      "display_name": "Python 3"
    },
    "language_info": {
      "name": "python"
    }
  },
  "cells": [
    {
      "cell_type": "markdown",
      "metadata": {
        "id": "view-in-github",
        "colab_type": "text"
      },
      "source": [
        "<a href=\"https://colab.research.google.com/github/padolekrushna/SQL_Music_Store_Analysis/blob/main/JOINS_IN__SQL.ipynb\" target=\"_parent\"><img src=\"https://colab.research.google.com/assets/colab-badge.svg\" alt=\"Open In Colab\"/></a>"
      ]
    },
    {
      "cell_type": "markdown",
      "source": [
        "### TABLE1  Orders:(OrderID,CustomerID,\tEmployeeID\t,OrderDate\t,ShipperID)\n",
        "### TABLE2  OrderDetails :(OrderDetailID,\tOrderID\t,ProductID,\tQuantity)\n",
        "### TABLE3  Employees : (EmployeeID\t,LastName\t,FirstName,\tBirthDate,\tPhoto\t,Notes)\n",
        "### TABLE4  Customers : (CustomerID\t,CustomerName\t,ContactName,\tAddress,\tCity\tPostalCode\t,Country)"
      ],
      "metadata": {
        "id": "k_dNwHgRLGbj"
      }
    },
    {
      "cell_type": "markdown",
      "source": [
        "###   **INNER JOIN** keyword returns only rows with a match in both tables. Which means that if you have a product with no CategoryID, or with a CategoryID that is not present in the Categories table, that record would not be returned in the result.**"
      ],
      "metadata": {
        "id": "DWVdGvnbIp4W"
      }
    },
    {
      "cell_type": "code",
      "source": [
        "SELECT OrderDetailID,Quantity,ShipperID\n",
        "FROM Orders\n",
        "INNER JOIN OrderDetails ON Orders.OrderID = OrderDetails.OrderID;"
      ],
      "metadata": {
        "id": "bfMmAJk7JE4t"
      },
      "execution_count": null,
      "outputs": []
    },
    {
      "cell_type": "markdown",
      "source": [
        "### The  **LEFT JOIN**  keyword returns all records from the left table (table1), and the matching records from the right table (table2). The result is 0 records from the right side, if there is no match."
      ],
      "metadata": {
        "id": "B9OzMRYiLynq"
      }
    },
    {
      "cell_type": "code",
      "source": [
        "SELECT OrderDetails.OrderDetailID, Orders.OrderID\n",
        "FROM Orders\n",
        "LEFT JOIN OrderDetails ON OrderDetails.OrderID = Orders.OrderID\n",
        "ORDER BY OrderDetail.OrderDetailID;"
      ],
      "metadata": {
        "id": "qGVw2l8_NxMZ"
      },
      "execution_count": null,
      "outputs": []
    },
    {
      "cell_type": "markdown",
      "source": [
        "### The **RIGHT JOIN** keyword returns all records from the right table (table2), and the matching records from the left table (table1). The result is 0 records from the left side, if there is no match."
      ],
      "metadata": {
        "id": "vxOAMaAgPVXH"
      }
    },
    {
      "cell_type": "code",
      "source": [
        "SELECT Orders.OrderID, Employees.LastName, Employees.FirstName\n",
        "FROM Orders\n",
        "RIGHT JOIN Employees ON Orders.EmployeeID = Employees.EmployeeID\n",
        "ORDER BY Orders.OrderID;"
      ],
      "metadata": {
        "id": "gKAoqsXaPpze"
      },
      "execution_count": null,
      "outputs": []
    },
    {
      "cell_type": "markdown",
      "source": [
        "### The **FULL OUTER JOIN** keyword returns all records when there is a match in left (table1) or right (table2) table records.\n",
        "\n",
        "Tip: FULL OUTER JOIN and FULL JOIN are the same."
      ],
      "metadata": {
        "id": "MmFtXpAsQTUx"
      }
    },
    {
      "cell_type": "code",
      "source": [
        "SELECT Customers.CustomerName, Orders.OrderID\n",
        "FROM Customers\n",
        "FULL OUTER JOIN Orders ON Customers.CustomerID=Orders.CustomerID\n",
        "ORDER BY Customers.CustomerName;"
      ],
      "metadata": {
        "id": "i5JIbC5JQVG5"
      },
      "execution_count": null,
      "outputs": []
    },
    {
      "cell_type": "markdown",
      "source": [
        "### A **self join** is a regular join, but the table is joined with itself."
      ],
      "metadata": {
        "id": "Sx7XRGswQ9_d"
      }
    },
    {
      "cell_type": "code",
      "source": [
        "SELECT A.CustomerName AS CustomerName1, B.CustomerName AS CustomerName2, A.City\n",
        "FROM Customers A, Customers B\n",
        "WHERE A.CustomerID <> B.CustomerID\n",
        "AND A.City = B.City\n",
        "ORDER BY A.City;"
      ],
      "metadata": {
        "id": "36Po9dG7RAeN"
      },
      "execution_count": null,
      "outputs": []
    }
  ]
}